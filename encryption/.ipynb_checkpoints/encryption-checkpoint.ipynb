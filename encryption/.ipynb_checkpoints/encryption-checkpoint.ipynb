{
 "cells": [
  {
   "cell_type": "code",
   "execution_count": null,
   "id": "b1581932-30fe-48c4-a3c2-b329d004b6fe",
   "metadata": {},
   "outputs": [
    {
     "name": "stdout",
     "output_type": "stream",
     "text": [
      "New BP reading saved: {'time': '2025-04-30T17:01:38.411814Z', 'systolic_pressure': 110, 'diastolic_pressure': 65, 'bpm': 81}\n"
     ]
    },
    {
     "name": "stderr",
     "output_type": "stream",
     "text": [
      "/var/folders/v9/pc1bwh31187bmyvgnrs88mm40000gq/T/ipykernel_23506/510758280.py:21: DeprecationWarning: datetime.datetime.utcnow() is deprecated and scheduled for removal in a future version. Use timezone-aware objects to represent datetimes in UTC: datetime.datetime.now(datetime.UTC).\n",
      "  \"time\": datetime.utcnow().isoformat() + \"Z\",\n"
     ]
    }
   ],
   "source": [
    "import struct\n",
    "import json\n",
    "import os\n",
    "from datetime import datetime\n",
    "\n",
    "# Log file path\n",
    "log_file = 'bp_log.json'\n",
    "\n",
    "# For systolic=110, diastolic=65, bpm=81 Sample data\n",
    "byte_data = struct.pack('>HHH', 110, 65, 81)\n",
    "                    \n",
    "# Unpack 3 unsigned shorts (2 bytes each, big-endian)\n",
    "systolic, diastolic, bpm = struct.unpack('>HHH', byte_data)\n",
    "\n",
    "# Create new reading entry\n",
    "entry = {\n",
    "    \"time\": datetime.utcnow().isoformat() + \"Z\",\n",
    "    \"systolic_pressure\": systolic,\n",
    "    \"diastolic_pressure\": diastolic,\n",
    "    \"bpm\": bpm\n",
    "}\n",
    "\n",
    "# Load existing log or create a new one\n",
    "if os.path.exists(log_file):\n",
    "    with open(log_file, 'r') as f:\n",
    "        data = json.load(f)\n",
    "else:\n",
    "    data = {\"bp_data\": []}\n",
    "\n",
    "# Add new reading\n",
    "data[\"bp_data\"].append(entry)\n",
    "\n",
    "# Write updated data back to JSON\n",
    "with open(log_file, 'w') as f:\n",
    "    json.dump(data, f, indent=2)\n",
    "\n",
    "print(\"New BP reading saved:\", entry)"
   ]
  },
  {
   "cell_type": "code",
   "execution_count": null,
   "id": "cf89b736-4714-4ada-9479-e41050eef512",
   "metadata": {},
   "outputs": [],
   "source": []
  }
 ],
 "metadata": {
  "kernelspec": {
   "display_name": "Python 3 (ipykernel)",
   "language": "python",
   "name": "python3"
  },
  "language_info": {
   "codemirror_mode": {
    "name": "ipython",
    "version": 3
   },
   "file_extension": ".py",
   "mimetype": "text/x-python",
   "name": "python",
   "nbconvert_exporter": "python",
   "pygments_lexer": "ipython3",
   "version": "3.13.2"
  }
 },
 "nbformat": 4,
 "nbformat_minor": 5
}
