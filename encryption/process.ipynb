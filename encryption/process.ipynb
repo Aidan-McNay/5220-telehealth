{
 "cells": [
  {
   "cell_type": "code",
   "execution_count": 1,
   "id": "b1581932-30fe-48c4-a3c2-b329d004b6fe",
   "metadata": {},
   "outputs": [
    {
     "name": "stdout",
     "output_type": "stream",
     "text": [
      "New BP reading saved: {'time': '2025-05-09T15:05:36.404503Z', 'systolic_pressure': 110, 'diastolic_pressure': 65, 'bpm': 81}\n"
     ]
    },
    {
     "name": "stderr",
     "output_type": "stream",
     "text": [
      "/var/folders/v9/pc1bwh31187bmyvgnrs88mm40000gq/T/ipykernel_82102/3590214281.py:18: DeprecationWarning: datetime.datetime.utcnow() is deprecated and scheduled for removal in a future version. Use timezone-aware objects to represent datetimes in UTC: datetime.datetime.now(datetime.UTC).\n",
      "  \"time\": datetime.utcnow().isoformat() + \"Z\",\n"
     ]
    }
   ],
   "source": [
    "import struct\n",
    "import csv\n",
    "import os\n",
    "from datetime import datetime\n",
    "\n",
    "# Log file path\n",
    "log_file = 'bp_log.csv'\n",
    "\n",
    "# For systolic=110, diastolic=65, bpm=81 Sample data\n",
    "byte_data = struct.pack('>HHH', 110, 65, 81)\n",
    "\n",
    "\n",
    "# Unpack 3 unsigned shorts (2 bytes each, big-endian)\n",
    "systolic, diastolic, bpm = struct.unpack('>HHH', byte_data)\n",
    "\n",
    "# Create new reading entry\n",
    "entry = {\n",
    "    \"time\": datetime.utcnow().isoformat() + \"Z\",\n",
    "    \"systolic_pressure\": systolic,\n",
    "    \"diastolic_pressure\": diastolic,\n",
    "    \"bpm\": bpm\n",
    "}\n",
    "\n",
    "# Check if the log file exists, if not, create it with headers\n",
    "file_exists = os.path.exists(log_file)\n",
    "\n",
    "# Write the new reading to CSV\n",
    "with open(log_file, mode='a', newline='') as f:\n",
    "    writer = csv.DictWriter(f, fieldnames=[\"time\", \"systolic_pressure\", \"diastolic_pressure\", \"bpm\"])\n",
    "\n",
    "    # If the file is new, write the header\n",
    "    if not file_exists:\n",
    "        writer.writeheader()\n",
    "    \n",
    "    writer.writerow(entry)\n",
    "\n",
    "print(\"New BP reading saved:\", entry)\n"
   ]
  },
  {
   "cell_type": "code",
   "execution_count": 4,
   "id": "8f5fe2f2",
   "metadata": {},
   "outputs": [],
   "source": [
    "from Crypto.Cipher import AES\n",
    "\n",
    "def decryption(key: bytes, ciphertext: bytes) -> bytes:\n",
    "    \"\"\"\n",
    "    Decrypt a 16-byte AES-128 ciphertext using ECB mode.\n",
    "\n",
    "    Parameters:\n",
    "        key (bytes): 16-byte AES key.\n",
    "        ciphertext (bytes): 16-byte ciphertext.\n",
    "\n",
    "    Returns:\n",
    "        bytes: Decrypted plaintext.\n",
    "    \"\"\"\n",
    "    assert len(key) == 16, \"Key must be 16 bytes for AES-128\"\n",
    "    assert len(ciphertext) == 16, \"Ciphertext must be 16 bytes\"\n",
    "\n",
    "    cipher = AES.new(key, AES.MODE_ECB)\n",
    "    plaintext = cipher.decrypt(ciphertext)\n",
    "    return plaintext\n",
    "\n"
   ]
  },
  {
   "cell_type": "code",
   "execution_count": 6,
   "id": "d0c95e0b",
   "metadata": {},
   "outputs": [
    {
     "name": "stdout",
     "output_type": "stream",
     "text": [
      "Decrypted: 6bc1bee22e409f96e93d7e117393172a\n",
      "Success: True\n"
     ]
    }
   ],
   "source": [
    "# Test example\n",
    "if __name__ == \"__main__\":\n",
    "    # Test vector from NIST SP 800-38A\n",
    "    key = bytes.fromhex(\"2b7e151628aed2a6abf7158809cf4f3c\")\n",
    "    ciphertext = bytes.fromhex(\"3ad77bb40d7a3660a89ecaf32466ef97\")\n",
    "    expected_plaintext = bytes.fromhex(\"6bc1bee22e409f96e93d7e117393172a\")\n",
    "\n",
    "    decrypted = decryption(key, ciphertext)\n",
    "\n",
    "    print(\"Decrypted:\", decrypted.hex())\n",
    "    print(\"Success:\", decrypted == expected_plaintext)"
   ]
  },
  {
   "cell_type": "code",
   "execution_count": 3,
   "id": "cf89b736-4714-4ada-9479-e41050eef512",
   "metadata": {},
   "outputs": [
    {
     "name": "stdout",
     "output_type": "stream",
     "text": [
      "Collecting pycryptodome\n",
      "  Downloading pycryptodome-3.22.0-cp37-abi3-macosx_10_9_x86_64.whl.metadata (3.4 kB)\n",
      "Downloading pycryptodome-3.22.0-cp37-abi3-macosx_10_9_x86_64.whl (1.6 MB)\n",
      "\u001b[2K   \u001b[90m━━━━━━━━━━━━━━━━━━━━━━━━━━━━━━━━━━━━━━━━\u001b[0m \u001b[32m1.6/1.6 MB\u001b[0m \u001b[31m20.0 MB/s\u001b[0m eta \u001b[36m0:00:00\u001b[0m\n",
      "\u001b[?25hInstalling collected packages: pycryptodome\n",
      "Successfully installed pycryptodome-3.22.0\n",
      "\n",
      "\u001b[1m[\u001b[0m\u001b[34;49mnotice\u001b[0m\u001b[1;39;49m]\u001b[0m\u001b[39;49m A new release of pip is available: \u001b[0m\u001b[31;49m25.0.1\u001b[0m\u001b[39;49m -> \u001b[0m\u001b[32;49m25.1.1\u001b[0m\n",
      "\u001b[1m[\u001b[0m\u001b[34;49mnotice\u001b[0m\u001b[1;39;49m]\u001b[0m\u001b[39;49m To update, run: \u001b[0m\u001b[32;49mpip install --upgrade pip\u001b[0m\n"
     ]
    }
   ],
   "source": []
  },
  {
   "cell_type": "code",
   "execution_count": null,
   "id": "490e61b0",
   "metadata": {},
   "outputs": [],
   "source": []
  }
 ],
 "metadata": {
  "kernelspec": {
   "display_name": "Python 3",
   "language": "python",
   "name": "python3"
  },
  "language_info": {
   "codemirror_mode": {
    "name": "ipython",
    "version": 3
   },
   "file_extension": ".py",
   "mimetype": "text/x-python",
   "name": "python",
   "nbconvert_exporter": "python",
   "pygments_lexer": "ipython3",
   "version": "3.13.2"
  }
 },
 "nbformat": 4,
 "nbformat_minor": 5
}
