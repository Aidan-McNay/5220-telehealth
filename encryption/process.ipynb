{
 "cells": [
  {
   "cell_type": "code",
   "execution_count": 8,
   "id": "08c2d860",
   "metadata": {},
   "outputs": [],
   "source": [
    "import sys\n",
    "import subprocess\n",
    "\n",
    "def install_if_needed(package):\n",
    "    try:\n",
    "        __import__(package)\n",
    "    except ImportError:\n",
    "        subprocess.check_call([sys.executable, \"-m\", \"pip\", \"install\", package])\n",
    "\n",
    "# Package names for import vs pip can differ\n",
    "install_if_needed(\"Crypto\")         # pycryptodome\n",
    "install_if_needed(\"dateutil\")       # python-dateutil\n",
    "install_if_needed(\"pytz\")           # pytz\n",
    "install_if_needed(\"paho.mqtt.client\")  # paho-mqtt\n"
   ]
  },
  {
   "cell_type": "code",
   "execution_count": 9,
   "id": "b1581932-30fe-48c4-a3c2-b329d004b6fe",
   "metadata": {},
   "outputs": [],
   "source": [
    "import struct\n",
    "import csv\n",
    "import os\n",
    "from datetime import datetime\n",
    "from Crypto.Cipher import AES\n",
    "from datetime import date\n",
    "from dateutil.parser import parse\n",
    "import pytz\n",
    "import paho.mqtt.client as mqttClient\n",
    "import time\n",
    "import json\n",
    "import base64"
   ]
  },
  {
   "cell_type": "code",
   "execution_count": 10,
   "id": "8f5fe2f2",
   "metadata": {},
   "outputs": [],
   "source": [
    "def decryption(key: bytes, ciphertext: bytes) -> bytes:\n",
    "    \"\"\"\n",
    "    Decrypt a 16-byte AES-128 ciphertext using ECB mode.\n",
    "\n",
    "    Parameters:\n",
    "        key (bytes): 16-byte AES key.\n",
    "        ciphertext (bytes): 16-byte ciphertext.\n",
    "\n",
    "    Returns:\n",
    "        bytes: Decrypted plaintext.\n",
    "    \"\"\"\n",
    "    assert len(key) == 16, \"Key must be 16 bytes for AES-128\"\n",
    "    assert len(ciphertext) == 16, \"Ciphertext must be 16 bytes\"\n",
    "\n",
    "    cipher = AES.new(key, AES.MODE_ECB)\n",
    "    plaintext = cipher.decrypt(ciphertext)\n",
    "    return plaintext"
   ]
  },
  {
   "cell_type": "markdown",
   "id": "2f9d1aa0",
   "metadata": {},
   "source": []
  },
  {
   "cell_type": "code",
   "execution_count": 17,
   "id": "8be8404b",
   "metadata": {},
   "outputs": [
    {
     "name": "stdout",
     "output_type": "stream",
     "text": [
      "Connected to broker\n",
      "\n",
      "Message received\n"
     ]
    },
    {
     "ename": "AssertionError",
     "evalue": "Ciphertext must be 16 bytes",
     "output_type": "error",
     "traceback": [
      "\u001b[31m---------------------------------------------------------------------------\u001b[39m",
      "\u001b[31mAssertionError\u001b[39m                            Traceback (most recent call last)",
      "\u001b[36mCell\u001b[39m\u001b[36m \u001b[39m\u001b[32mIn[17]\u001b[39m\u001b[32m, line 81\u001b[39m\n\u001b[32m     79\u001b[39m client.connect(broker_address,port,\u001b[32m60\u001b[39m) \u001b[38;5;66;03m#connect\u001b[39;00m\n\u001b[32m     80\u001b[39m client.subscribe(\u001b[33mf\u001b[39m\u001b[33m\"\u001b[39m\u001b[33mv3/\u001b[39m\u001b[38;5;132;01m{\u001b[39;00muser\u001b[38;5;132;01m}\u001b[39;00m\u001b[33m/devices/+/up\u001b[39m\u001b[33m\"\u001b[39m) \u001b[38;5;66;03m#subscribe\u001b[39;00m\n\u001b[32m---> \u001b[39m\u001b[32m81\u001b[39m \u001b[43mclient\u001b[49m\u001b[43m.\u001b[49m\u001b[43mloop_forever\u001b[49m\u001b[43m(\u001b[49m\u001b[43m)\u001b[49m \u001b[38;5;66;03m#then keep listening forever\u001b[39;00m\n",
      "\u001b[36mFile \u001b[39m\u001b[32m/Library/Frameworks/Python.framework/Versions/3.13/lib/python3.13/site-packages/paho/mqtt/client.py:1756\u001b[39m, in \u001b[36mClient.loop_forever\u001b[39m\u001b[34m(self, timeout, max_packets, retry_first_connection)\u001b[39m\n\u001b[32m   1754\u001b[39m rc = MQTT_ERR_SUCCESS\n\u001b[32m   1755\u001b[39m \u001b[38;5;28;01mwhile\u001b[39;00m rc == MQTT_ERR_SUCCESS:\n\u001b[32m-> \u001b[39m\u001b[32m1756\u001b[39m     rc = \u001b[38;5;28;43mself\u001b[39;49m\u001b[43m.\u001b[49m\u001b[43m_loop\u001b[49m\u001b[43m(\u001b[49m\u001b[43mtimeout\u001b[49m\u001b[43m)\u001b[49m\n\u001b[32m   1757\u001b[39m     \u001b[38;5;66;03m# We don't need to worry about locking here, because we've\u001b[39;00m\n\u001b[32m   1758\u001b[39m     \u001b[38;5;66;03m# either called loop_forever() when in single threaded mode, or\u001b[39;00m\n\u001b[32m   1759\u001b[39m     \u001b[38;5;66;03m# in multi threaded mode when loop_stop() has been called and\u001b[39;00m\n\u001b[32m   1760\u001b[39m     \u001b[38;5;66;03m# so no other threads can access _out_packet or _messages.\u001b[39;00m\n\u001b[32m   1761\u001b[39m     \u001b[38;5;28;01mif\u001b[39;00m (\u001b[38;5;28mself\u001b[39m._thread_terminate \u001b[38;5;129;01mis\u001b[39;00m \u001b[38;5;28;01mTrue\u001b[39;00m\n\u001b[32m   1762\u001b[39m         \u001b[38;5;129;01mand\u001b[39;00m \u001b[38;5;28mlen\u001b[39m(\u001b[38;5;28mself\u001b[39m._out_packet) == \u001b[32m0\u001b[39m\n\u001b[32m   1763\u001b[39m             \u001b[38;5;129;01mand\u001b[39;00m \u001b[38;5;28mlen\u001b[39m(\u001b[38;5;28mself\u001b[39m._out_messages) == \u001b[32m0\u001b[39m):\n",
      "\u001b[36mFile \u001b[39m\u001b[32m/Library/Frameworks/Python.framework/Versions/3.13/lib/python3.13/site-packages/paho/mqtt/client.py:1164\u001b[39m, in \u001b[36mClient._loop\u001b[39m\u001b[34m(self, timeout)\u001b[39m\n\u001b[32m   1161\u001b[39m     \u001b[38;5;28;01mreturn\u001b[39;00m MQTT_ERR_UNKNOWN\n\u001b[32m   1163\u001b[39m \u001b[38;5;28;01mif\u001b[39;00m \u001b[38;5;28mself\u001b[39m._sock \u001b[38;5;129;01min\u001b[39;00m socklist[\u001b[32m0\u001b[39m] \u001b[38;5;129;01mor\u001b[39;00m pending_bytes > \u001b[32m0\u001b[39m:\n\u001b[32m-> \u001b[39m\u001b[32m1164\u001b[39m     rc = \u001b[38;5;28;43mself\u001b[39;49m\u001b[43m.\u001b[49m\u001b[43mloop_read\u001b[49m\u001b[43m(\u001b[49m\u001b[43m)\u001b[49m\n\u001b[32m   1165\u001b[39m     \u001b[38;5;28;01mif\u001b[39;00m rc \u001b[38;5;129;01mor\u001b[39;00m \u001b[38;5;28mself\u001b[39m._sock \u001b[38;5;129;01mis\u001b[39;00m \u001b[38;5;28;01mNone\u001b[39;00m:\n\u001b[32m   1166\u001b[39m         \u001b[38;5;28;01mreturn\u001b[39;00m rc\n",
      "\u001b[36mFile \u001b[39m\u001b[32m/Library/Frameworks/Python.framework/Versions/3.13/lib/python3.13/site-packages/paho/mqtt/client.py:1556\u001b[39m, in \u001b[36mClient.loop_read\u001b[39m\u001b[34m(self, max_packets)\u001b[39m\n\u001b[32m   1554\u001b[39m \u001b[38;5;28;01mif\u001b[39;00m \u001b[38;5;28mself\u001b[39m._sock \u001b[38;5;129;01mis\u001b[39;00m \u001b[38;5;28;01mNone\u001b[39;00m:\n\u001b[32m   1555\u001b[39m     \u001b[38;5;28;01mreturn\u001b[39;00m MQTT_ERR_NO_CONN\n\u001b[32m-> \u001b[39m\u001b[32m1556\u001b[39m rc = \u001b[38;5;28;43mself\u001b[39;49m\u001b[43m.\u001b[49m\u001b[43m_packet_read\u001b[49m\u001b[43m(\u001b[49m\u001b[43m)\u001b[49m\n\u001b[32m   1557\u001b[39m \u001b[38;5;28;01mif\u001b[39;00m rc > \u001b[32m0\u001b[39m:\n\u001b[32m   1558\u001b[39m     \u001b[38;5;28;01mreturn\u001b[39;00m \u001b[38;5;28mself\u001b[39m._loop_rc_handle(rc)\n",
      "\u001b[36mFile \u001b[39m\u001b[32m/Library/Frameworks/Python.framework/Versions/3.13/lib/python3.13/site-packages/paho/mqtt/client.py:2439\u001b[39m, in \u001b[36mClient._packet_read\u001b[39m\u001b[34m(self)\u001b[39m\n\u001b[32m   2437\u001b[39m \u001b[38;5;66;03m# All data for this packet is read.\u001b[39;00m\n\u001b[32m   2438\u001b[39m \u001b[38;5;28mself\u001b[39m._in_packet[\u001b[33m'\u001b[39m\u001b[33mpos\u001b[39m\u001b[33m'\u001b[39m] = \u001b[32m0\u001b[39m\n\u001b[32m-> \u001b[39m\u001b[32m2439\u001b[39m rc = \u001b[38;5;28;43mself\u001b[39;49m\u001b[43m.\u001b[49m\u001b[43m_packet_handle\u001b[49m\u001b[43m(\u001b[49m\u001b[43m)\u001b[49m\n\u001b[32m   2441\u001b[39m \u001b[38;5;66;03m# Free data and reset values\u001b[39;00m\n\u001b[32m   2442\u001b[39m \u001b[38;5;28mself\u001b[39m._in_packet = {\n\u001b[32m   2443\u001b[39m     \u001b[33m'\u001b[39m\u001b[33mcommand\u001b[39m\u001b[33m'\u001b[39m: \u001b[32m0\u001b[39m,\n\u001b[32m   2444\u001b[39m     \u001b[33m'\u001b[39m\u001b[33mhave_remaining\u001b[39m\u001b[33m'\u001b[39m: \u001b[32m0\u001b[39m,\n\u001b[32m   (...)\u001b[39m\u001b[32m   2449\u001b[39m     \u001b[33m'\u001b[39m\u001b[33mto_process\u001b[39m\u001b[33m'\u001b[39m: \u001b[32m0\u001b[39m,\n\u001b[32m   2450\u001b[39m     \u001b[33m'\u001b[39m\u001b[33mpos\u001b[39m\u001b[33m'\u001b[39m: \u001b[32m0\u001b[39m}\n",
      "\u001b[36mFile \u001b[39m\u001b[32m/Library/Frameworks/Python.framework/Versions/3.13/lib/python3.13/site-packages/paho/mqtt/client.py:3033\u001b[39m, in \u001b[36mClient._packet_handle\u001b[39m\u001b[34m(self)\u001b[39m\n\u001b[32m   3031\u001b[39m     \u001b[38;5;28;01mreturn\u001b[39;00m \u001b[38;5;28mself\u001b[39m._handle_pubackcomp(\u001b[33m\"\u001b[39m\u001b[33mPUBCOMP\u001b[39m\u001b[33m\"\u001b[39m)\n\u001b[32m   3032\u001b[39m \u001b[38;5;28;01melif\u001b[39;00m cmd == PUBLISH:\n\u001b[32m-> \u001b[39m\u001b[32m3033\u001b[39m     \u001b[38;5;28;01mreturn\u001b[39;00m \u001b[38;5;28;43mself\u001b[39;49m\u001b[43m.\u001b[49m\u001b[43m_handle_publish\u001b[49m\u001b[43m(\u001b[49m\u001b[43m)\u001b[49m\n\u001b[32m   3034\u001b[39m \u001b[38;5;28;01melif\u001b[39;00m cmd == PUBREC:\n\u001b[32m   3035\u001b[39m     \u001b[38;5;28;01mreturn\u001b[39;00m \u001b[38;5;28mself\u001b[39m._handle_pubrec()\n",
      "\u001b[36mFile \u001b[39m\u001b[32m/Library/Frameworks/Python.framework/Versions/3.13/lib/python3.13/site-packages/paho/mqtt/client.py:3327\u001b[39m, in \u001b[36mClient._handle_publish\u001b[39m\u001b[34m(self)\u001b[39m\n\u001b[32m   3325\u001b[39m message.timestamp = time_func()\n\u001b[32m   3326\u001b[39m \u001b[38;5;28;01mif\u001b[39;00m message.qos == \u001b[32m0\u001b[39m:\n\u001b[32m-> \u001b[39m\u001b[32m3327\u001b[39m     \u001b[38;5;28;43mself\u001b[39;49m\u001b[43m.\u001b[49m\u001b[43m_handle_on_message\u001b[49m\u001b[43m(\u001b[49m\u001b[43mmessage\u001b[49m\u001b[43m)\u001b[49m\n\u001b[32m   3328\u001b[39m     \u001b[38;5;28;01mreturn\u001b[39;00m MQTT_ERR_SUCCESS\n\u001b[32m   3329\u001b[39m \u001b[38;5;28;01melif\u001b[39;00m message.qos == \u001b[32m1\u001b[39m:\n",
      "\u001b[36mFile \u001b[39m\u001b[32m/Library/Frameworks/Python.framework/Versions/3.13/lib/python3.13/site-packages/paho/mqtt/client.py:3570\u001b[39m, in \u001b[36mClient._handle_on_message\u001b[39m\u001b[34m(self, message)\u001b[39m\n\u001b[32m   3568\u001b[39m \u001b[38;5;28;01mwith\u001b[39;00m \u001b[38;5;28mself\u001b[39m._in_callback_mutex:\n\u001b[32m   3569\u001b[39m     \u001b[38;5;28;01mtry\u001b[39;00m:\n\u001b[32m-> \u001b[39m\u001b[32m3570\u001b[39m         \u001b[43mon_message\u001b[49m\u001b[43m(\u001b[49m\u001b[38;5;28;43mself\u001b[39;49m\u001b[43m,\u001b[49m\u001b[43m \u001b[49m\u001b[38;5;28;43mself\u001b[39;49m\u001b[43m.\u001b[49m\u001b[43m_userdata\u001b[49m\u001b[43m,\u001b[49m\u001b[43m \u001b[49m\u001b[43mmessage\u001b[49m\u001b[43m)\u001b[49m\n\u001b[32m   3571\u001b[39m     \u001b[38;5;28;01mexcept\u001b[39;00m \u001b[38;5;167;01mException\u001b[39;00m \u001b[38;5;28;01mas\u001b[39;00m err:\n\u001b[32m   3572\u001b[39m         \u001b[38;5;28mself\u001b[39m._easy_log(\n\u001b[32m   3573\u001b[39m             MQTT_LOG_ERR, \u001b[33m'\u001b[39m\u001b[33mCaught exception in on_message: \u001b[39m\u001b[38;5;132;01m%s\u001b[39;00m\u001b[33m'\u001b[39m, err)\n",
      "\u001b[36mCell\u001b[39m\u001b[36m \u001b[39m\u001b[32mIn[17]\u001b[39m\u001b[32m, line 37\u001b[39m, in \u001b[36mon_message\u001b[39m\u001b[34m(client, userdata, message)\u001b[39m\n\u001b[32m     34\u001b[39m ciphertext = base64.b64decode(frm_payload_base64)\n\u001b[32m     36\u001b[39m \u001b[38;5;66;03m#Decrypt\u001b[39;00m\n\u001b[32m---> \u001b[39m\u001b[32m37\u001b[39m plaintext = \u001b[43mdecryption\u001b[49m\u001b[43m(\u001b[49m\u001b[43mkey\u001b[49m\u001b[43m,\u001b[49m\u001b[43m \u001b[49m\u001b[43mciphertext\u001b[49m\u001b[43m)\u001b[49m\n\u001b[32m     39\u001b[39m \u001b[38;5;28mprint\u001b[39m(\u001b[33m\"\u001b[39m\u001b[33mDecrypted plaintext:\u001b[39m\u001b[33m\"\u001b[39m, plaintext)\n\u001b[32m     41\u001b[39m \u001b[38;5;66;03m# Extract systolic, diastolic, bpm (2 bytes each)\u001b[39;00m\n",
      "\u001b[36mCell\u001b[39m\u001b[36m \u001b[39m\u001b[32mIn[10]\u001b[39m\u001b[32m, line 13\u001b[39m, in \u001b[36mdecryption\u001b[39m\u001b[34m(key, ciphertext)\u001b[39m\n\u001b[32m      2\u001b[39m \u001b[38;5;250m\u001b[39m\u001b[33;03m\"\"\"\u001b[39;00m\n\u001b[32m      3\u001b[39m \u001b[33;03mDecrypt a 16-byte AES-128 ciphertext using ECB mode.\u001b[39;00m\n\u001b[32m      4\u001b[39m \n\u001b[32m   (...)\u001b[39m\u001b[32m     10\u001b[39m \u001b[33;03m    bytes: Decrypted plaintext.\u001b[39;00m\n\u001b[32m     11\u001b[39m \u001b[33;03m\"\"\"\u001b[39;00m\n\u001b[32m     12\u001b[39m \u001b[38;5;28;01massert\u001b[39;00m \u001b[38;5;28mlen\u001b[39m(key) == \u001b[32m16\u001b[39m, \u001b[33m\"\u001b[39m\u001b[33mKey must be 16 bytes for AES-128\u001b[39m\u001b[33m\"\u001b[39m\n\u001b[32m---> \u001b[39m\u001b[32m13\u001b[39m \u001b[38;5;28;01massert\u001b[39;00m \u001b[38;5;28mlen\u001b[39m(ciphertext) == \u001b[32m16\u001b[39m, \u001b[33m\"\u001b[39m\u001b[33mCiphertext must be 16 bytes\u001b[39m\u001b[33m\"\u001b[39m\n\u001b[32m     15\u001b[39m cipher = AES.new(key, AES.MODE_ECB)\n\u001b[32m     16\u001b[39m plaintext = cipher.decrypt(ciphertext)\n",
      "\u001b[31mAssertionError\u001b[39m: Ciphertext must be 16 bytes"
     ]
    }
   ],
   "source": [
    "#Hardcoded encryption key\n",
    "key = bytes.fromhex(\"e7a5c3f2d48a0e3bc96117b5fdfba247\")\n",
    "\n",
    "#Subscribe to TTN\n",
    "def on_connect(client, userdata, flags, rc):\n",
    "\n",
    "\n",
    "    if rc == 0:\n",
    "\n",
    "        print(\"Connected to broker\")\n",
    "\n",
    "        global Connected                #Use global variable\n",
    "        Connected = True                #Signal connection\n",
    "\n",
    "    else:\n",
    "      \n",
    "        print(\"Connection failed\")\n",
    "\n",
    "def on_message(client, userdata, message):\n",
    "    #Old Lab 5 and 6 Code\n",
    "    # print(\"\")\n",
    "    # print(\"Message received: \"  + str(message.payload))\n",
    "\n",
    "    # with open('myData.txt','a+') as f:\n",
    "    #      f.write(str(message.payload)[2:-1]+\"\\n\")\n",
    "\n",
    "    #Process TTN\n",
    "    print(\"\\nMessage received\")\n",
    "\n",
    "    payload_str = message.payload.decode('utf-8')\n",
    "    payload_json = json.loads(payload_str)\n",
    "\n",
    "    frm_payload_base64 = payload_json['uplink_message']['frm_payload']\n",
    "    ciphertext = base64.b64decode(frm_payload_base64)\n",
    "\n",
    "    #Decrypt\n",
    "    plaintext = decryption(key, ciphertext)\n",
    "\n",
    "    print(\"Decrypted plaintext:\", plaintext)\n",
    "\n",
    "    # Extract systolic, diastolic, bpm (2 bytes each)\n",
    "    systolic = int.from_bytes(plaintext[0:2], byteorder='big')\n",
    "    diastolic = int.from_bytes(plaintext[2:4], byteorder='big')\n",
    "    bpm = int.from_bytes(plaintext[4:6], byteorder='big')\n",
    "\n",
    "    print(f\"Systolic: {systolic}, Diastolic: {diastolic}, BPM: {bpm}\")\n",
    "\n",
    "     # Prepare CSV logging\n",
    "    timestamp = datetime.now().isoformat()\n",
    "\n",
    "    file_exists = os.path.isfile('bp_log.csv')\n",
    "    \n",
    "    # Write the new reading to CSV\n",
    "    with open('bp_log.csv', mode='a', newline='') as f:\n",
    "        writer = csv.DictWriter(f, fieldnames=[\"time\", \"systolic_pressure\", \"diastolic_pressure\", \"bpm\"])\n",
    "\n",
    "        # If the file is new, write the header\n",
    "        if not (file_exists):\n",
    "            writer.writeheader()\n",
    "        \n",
    "        writer.writerow({\n",
    "        \"time\": timestamp,\n",
    "        \"systolic_pressure\": systolic,\n",
    "        \"diastolic_pressure\": diastolic,\n",
    "        \"bpm\": bpm\n",
    "        })\n",
    "\n",
    "Connected = False   #global variable for the state of the connection\n",
    "\n",
    "broker_address= \"nam1.cloud.thethings.network\"  #host\n",
    "port = 1883                         #Broker port\n",
    "user = \"mae4220-telehealth@ttn\" #Connection username\n",
    "password = \"NNSXS.5I5BKPVDVCVBZLXYKADNM47PPGYYKGAD5XGGP3I.RNGEWQB3N6Y7R3QCIWDZYRZFC5KCR6Q32VECNUXXHT5KX4TFIB3A\" #<--  Put your TTN V3 API key in quotes     #Connection password\n",
    "\n",
    "client = mqttClient.Client(\"Python\")               #create new instance\n",
    "client.username_pw_set(user, password=password)    #set username and password\n",
    "client.on_connect= on_connect                      #attach function to callback\n",
    "client.on_message= on_message                      #attach function to callback\n",
    "client.connect(broker_address,port,60) #connect\n",
    "client.subscribe(f\"v3/{user}/devices/+/up\") #subscribe\n",
    "client.loop_forever() #then keep listening forever"
   ]
  },
  {
   "cell_type": "code",
   "execution_count": null,
   "id": "240e382f",
   "metadata": {},
   "outputs": [],
   "source": []
  },
  {
   "cell_type": "code",
   "execution_count": 6,
   "id": "d0c95e0b",
   "metadata": {},
   "outputs": [
    {
     "name": "stdout",
     "output_type": "stream",
     "text": [
      "Decrypted: 6bc1bee22e409f96e93d7e117393172a\n",
      "Success: True\n"
     ]
    }
   ],
   "source": [
    "# Test example for decryption function\n",
    "if __name__ == \"__main__\":\n",
    "    # Test vector from NIST SP 800-38A\n",
    "    key = bytes.fromhex(\"2b7e151628aed2a6abf7158809cf4f3c\")\n",
    "    ciphertext = bytes.fromhex(\"3ad77bb40d7a3660a89ecaf32466ef97\")\n",
    "    expected_plaintext = bytes.fromhex(\"6bc1bee22e409f96e93d7e117393172a\")\n",
    "\n",
    "    decrypted = decryption(key, ciphertext)\n",
    "\n",
    "    print(\"Decrypted:\", decrypted.hex())\n",
    "    print(\"Success:\", decrypted == expected_plaintext)"
   ]
  },
  {
   "cell_type": "code",
   "execution_count": 14,
   "id": "487a19bd",
   "metadata": {},
   "outputs": [
    {
     "name": "stdout",
     "output_type": "stream",
     "text": [
      "Decrypted: 0093005d006800000000000000000000\n",
      "Success: False\n"
     ]
    }
   ],
   "source": [
    "if __name__ == \"__main__\":\n",
    "    # Key from NIST test vector\n",
    "    key = bytes.fromhex(\"e7a5c3f2d48a0e3bc96117b5fdfba247\")\n",
    "\n",
    "    # Your ciphertext\n",
    "    ciphertext = bytes([\n",
    "        0x3b, 0x73, 0x0f, 0x8e,\n",
    "        0x11, 0x84, 0xa0, 0x19,\n",
    "        0xa1, 0x46, 0xba, 0x83,\n",
    "        0x71, 0xa6, 0x77, 0x03\n",
    "    ])\n",
    "\n",
    "    # Dummy expected plaintext for now (replace if known)\n",
    "    expected_plaintext = b\"\"  # Or put expected plaintext if you know it\n",
    "\n",
    "    decrypted = decryption(key, ciphertext)\n",
    "\n",
    "    print(\"Decrypted:\", decrypted.hex())\n",
    "    print(\"Success:\", decrypted == expected_plaintext)\n"
   ]
  },
  {
   "cell_type": "code",
   "execution_count": 3,
   "id": "cf89b736-4714-4ada-9479-e41050eef512",
   "metadata": {},
   "outputs": [
    {
     "name": "stdout",
     "output_type": "stream",
     "text": [
      "Collecting pycryptodome\n",
      "  Downloading pycryptodome-3.22.0-cp37-abi3-macosx_10_9_x86_64.whl.metadata (3.4 kB)\n",
      "Downloading pycryptodome-3.22.0-cp37-abi3-macosx_10_9_x86_64.whl (1.6 MB)\n",
      "\u001b[2K   \u001b[90m━━━━━━━━━━━━━━━━━━━━━━━━━━━━━━━━━━━━━━━━\u001b[0m \u001b[32m1.6/1.6 MB\u001b[0m \u001b[31m20.0 MB/s\u001b[0m eta \u001b[36m0:00:00\u001b[0m\n",
      "\u001b[?25hInstalling collected packages: pycryptodome\n",
      "Successfully installed pycryptodome-3.22.0\n",
      "\n",
      "\u001b[1m[\u001b[0m\u001b[34;49mnotice\u001b[0m\u001b[1;39;49m]\u001b[0m\u001b[39;49m A new release of pip is available: \u001b[0m\u001b[31;49m25.0.1\u001b[0m\u001b[39;49m -> \u001b[0m\u001b[32;49m25.1.1\u001b[0m\n",
      "\u001b[1m[\u001b[0m\u001b[34;49mnotice\u001b[0m\u001b[1;39;49m]\u001b[0m\u001b[39;49m To update, run: \u001b[0m\u001b[32;49mpip install --upgrade pip\u001b[0m\n"
     ]
    }
   ],
   "source": [
    "# #Old code\n",
    "# # Log file path\n",
    "# log_file = 'bp_log.csv'\n",
    "\n",
    "# # For systolic=110, diastolic=65, bpm=81 Sample data\n",
    "# byte_data = struct.pack('>HHH', 110, 65, 81)\n",
    "\n",
    "\n",
    "# # Unpack 3 unsigned shorts (2 bytes each, big-endian)\n",
    "# systolic, diastolic, bpm = struct.unpack('>HHH', byte_data)\n",
    "\n",
    "# # Create new reading entry\n",
    "# entry = {\n",
    "#     \"time\": datetime.utcnow().isoformat() + \"Z\",\n",
    "#     \"systolic_pressure\": systolic,\n",
    "#     \"diastolic_pressure\": diastolic,\n",
    "#     \"bpm\": bpm\n",
    "# }\n",
    "\n",
    "# # Check if the log file exists, if not, create it with headers\n",
    "# file_exists = os.path.exists(log_file)\n",
    "\n",
    "# # Write the new reading to CSV\n",
    "# with open(log_file, mode='a', newline='') as f:\n",
    "#     writer = csv.DictWriter(f, fieldnames=[\"time\", \"systolic_pressure\", \"diastolic_pressure\", \"bpm\"])\n",
    "\n",
    "#     # If the file is new, write the header\n",
    "#     if not file_exists:\n",
    "#         writer.writeheader()\n",
    "    \n",
    "#     writer.writerow(entry)\n",
    "\n",
    "# print(\"New BP reading saved:\", entry)"
   ]
  },
  {
   "cell_type": "code",
   "execution_count": null,
   "id": "490e61b0",
   "metadata": {},
   "outputs": [],
   "source": []
  }
 ],
 "metadata": {
  "kernelspec": {
   "display_name": "Python 3",
   "language": "python",
   "name": "python3"
  },
  "language_info": {
   "codemirror_mode": {
    "name": "ipython",
    "version": 3
   },
   "file_extension": ".py",
   "mimetype": "text/x-python",
   "name": "python",
   "nbconvert_exporter": "python",
   "pygments_lexer": "ipython3",
   "version": "3.13.2"
  }
 },
 "nbformat": 4,
 "nbformat_minor": 5
}
